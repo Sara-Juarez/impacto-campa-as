{
 "cells": [
  {
   "cell_type": "code",
   "execution_count": 2,
   "id": "196eebe6",
   "metadata": {},
   "outputs": [],
   "source": [
    "import pandas as pd"
   ]
  },
  {
   "cell_type": "code",
   "execution_count": 4,
   "id": "61170fa1",
   "metadata": {},
   "outputs": [],
   "source": [
    "northwind_order_details=pd.read_csv(r'C:\\Users\\ELENA\\Documents\\cosas de sarika\\ACTUARÍA BUAP\\8vo Semestre\\Análisis de Datos\\Projects\\impacto-campa-as\\datasets\\northwind_order_details.csv')"
   ]
  },
  {
   "cell_type": "code",
   "execution_count": 5,
   "id": "293ccb61",
   "metadata": {},
   "outputs": [],
   "source": [
    "northwind_order=pd.read_csv(r'C:\\Users\\ELENA\\Documents\\cosas de sarika\\ACTUARÍA BUAP\\8vo Semestre\\Análisis de Datos\\Projects\\impacto-campa-as\\datasets\\northwind_orders.csv')"
   ]
  },
  {
   "cell_type": "code",
   "execution_count": null,
   "id": "643f8c02",
   "metadata": {},
   "outputs": [],
   "source": []
  }
 ],
 "metadata": {
  "kernelspec": {
   "display_name": "Python 3 (ipykernel)",
   "language": "python",
   "name": "python3"
  },
  "language_info": {
   "codemirror_mode": {
    "name": "ipython",
    "version": 3
   },
   "file_extension": ".py",
   "mimetype": "text/x-python",
   "name": "python",
   "nbconvert_exporter": "python",
   "pygments_lexer": "ipython3",
   "version": "3.9.13"
  }
 },
 "nbformat": 4,
 "nbformat_minor": 5
}
